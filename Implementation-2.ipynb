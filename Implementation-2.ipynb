{
 "cells": [
  {
   "cell_type": "code",
   "execution_count": 1,
   "metadata": {},
   "outputs": [
    {
     "name": "stderr",
     "output_type": "stream",
     "text": [
      "C:\\Users\\kanan\\anaconda3\\lib\\site-packages\\numpy\\_distributor_init.py:30: UserWarning: loaded more than 1 DLL from .libs:\n",
      "C:\\Users\\kanan\\anaconda3\\lib\\site-packages\\numpy\\.libs\\libopenblas.NOIJJG62EMASZI6NYURL6JBKM4EVBGM7.gfortran-win_amd64.dll\n",
      "C:\\Users\\kanan\\anaconda3\\lib\\site-packages\\numpy\\.libs\\libopenblas.PYQHXLVVQ7VESDPUVUADXEVJOBGHJPAY.gfortran-win_amd64.dll\n",
      "  warnings.warn(\"loaded more than 1 DLL from .libs:\\n%s\" %\n"
     ]
    }
   ],
   "source": [
    "import tensorflow as tf\n",
    "from tensorflow import keras\n",
    "import tensorflow_datasets as tfds\n",
    "import matplotlib.pyplot as plt\n",
    "import os\n",
    "import pandas as pd\n",
    "import matplotlib.image as mpimg \n",
    "import pathlib\n",
    "import numpy as np"
   ]
  },
  {
   "cell_type": "code",
   "execution_count": 2,
   "metadata": {},
   "outputs": [],
   "source": [
    "X_dir=\"images/images/\"\n",
    "y_dir=\"annotations/annotations\""
   ]
  },
  {
   "cell_type": "code",
   "execution_count": 3,
   "metadata": {},
   "outputs": [],
   "source": [
    "\n",
    "def train_dataframe(which=\"trainval\"):\n",
    "    df=pd.read_csv(y_dir+\"/\"+which+\".txt\",sep=\" \",names=[\"File_name\",\"ID\",\"Species\",\"Breed_ID\"])\n",
    "    file_path=X_dir+df[\"File_name\"]+\".jpg\"\n",
    "    file_path=tf.constant(file_path)\n",
    "    target_path=y_dir+\"/trimaps/\"+df[\"File_name\"]+\".png\"\n",
    "    target_path=tf.constant(target_path)\n",
    "    return tf.data.Dataset.from_tensor_slices((file_path,target_path))"
   ]
  },
  {
   "cell_type": "code",
   "execution_count": 4,
   "metadata": {},
   "outputs": [
    {
     "name": "stdout",
     "output_type": "stream",
     "text": [
      "tf.Tensor(\n",
      "[[22. 28.]\n",
      " [49. 64.]], shape=(2, 2), dtype=float32)\n"
     ]
    }
   ],
   "source": [
    "a = tf.constant([[1.0, 2.0, 3.0], [4.0, 5.0, 6.0]])\n",
    "b = tf.constant([[1.0, 2.0], [3.0, 4.0], [5.0, 6.0]])\n",
    "c = tf.matmul(a, b)\n",
    "\n",
    "print(c)"
   ]
  },
  {
   "cell_type": "code",
   "execution_count": null,
   "metadata": {},
   "outputs": [],
   "source": []
  },
  {
   "cell_type": "code",
   "execution_count": null,
   "metadata": {},
   "outputs": [],
   "source": []
  },
  {
   "cell_type": "code",
   "execution_count": 5,
   "metadata": {},
   "outputs": [],
   "source": [
    "@tf.function\n",
    "def read_image(input_path,mask_path): # read image from file\n",
    "    X=tf.io.read_file(input_path)\n",
    "    X=tf.image.decode_jpeg(X,channels=3)\n",
    "    X=tf.image.resize(X,(572,572))\n",
    "    y=tf.io.read_file(mask_path)\n",
    "    y=tf.image.decode_png(y,channels=3)\n",
    "    y=tf.image.resize(y,(388,388))\n",
    "    return X,y\n",
    "\n",
    "@tf.function\n",
    "def pre_process(input_image,input_mask):\n",
    "    input_image=input_image/255.0\n",
    "    input_mask -=1\n",
    "    return input_image,input_mask    "
   ]
  },
  {
   "cell_type": "code",
   "execution_count": 6,
   "metadata": {},
   "outputs": [],
   "source": [
    "df_train=train_dataframe()\n",
    "df_train=df_train.map(read_image)\n",
    "df_train=df_train.map(pre_process)\n",
    "df_test=train_dataframe(\"test\")"
   ]
  },
  {
   "cell_type": "code",
   "execution_count": null,
   "metadata": {},
   "outputs": [],
   "source": []
  },
  {
   "cell_type": "code",
   "execution_count": 7,
   "metadata": {},
   "outputs": [],
   "source": [
    "train_datasets=df_train.shuffle(1000).repeat(5).batch(5)\n",
    "test_datasets=df_test.batch(100)"
   ]
  },
  {
   "cell_type": "code",
   "execution_count": 8,
   "metadata": {},
   "outputs": [
    {
     "data": {
      "text/plain": [
       "<BatchDataset shapes: ((None, 572, 572, 3), (None, 388, 388, 3)), types: (tf.float32, tf.float32)>"
      ]
     },
     "execution_count": 8,
     "metadata": {},
     "output_type": "execute_result"
    }
   ],
   "source": [
    "train_datasets"
   ]
  },
  {
   "cell_type": "code",
   "execution_count": 9,
   "metadata": {},
   "outputs": [],
   "source": [
    "class Double_Conv_Down(keras.layers.Layer):\n",
    "    \n",
    "    def __init__(self,n_layers,in_c,activation=\"relu\",**kwargs):\n",
    "        super().__init__(**kwargs)\n",
    "        self.hidden=[keras.layers.Conv2D(in_c,kernel_size=3) for i in range(n_layers)]\n",
    "        self.activation=keras.layers.Activation(activation)\n",
    "        self.max_pool=keras.layers.MaxPool2D(pool_size=2,strides=2)\n",
    "        \n",
    "    def call(self,inputs):\n",
    "        Z=inputs\n",
    "        for layer in self.hidden:\n",
    "            Z=layer(Z)\n",
    "            Z=self.activation(Z)\n",
    "        self.next_use=Z\n",
    "        Z=self.max_pool(Z)\n",
    "        return Z\n",
    "        \n",
    "        "
   ]
  },
  {
   "cell_type": "code",
   "execution_count": 10,
   "metadata": {},
   "outputs": [],
   "source": [
    "class Double_Conv(keras.layers.Layer):\n",
    "    \n",
    "    def __init__(self,n_layers,in_c,activation=\"relu\",**kwargs):\n",
    "        super().__init__(**kwargs)\n",
    "        self.hidden=[keras.layers.Conv2D(in_c,kernel_size=3) for i in range(n_layers)]\n",
    "        self.activation=keras.layers.Activation(activation)\n",
    "        \n",
    "    def call(self,inputs):\n",
    "        Z=inputs\n",
    "        for layer in self.hidden:\n",
    "            Z=layer(Z)\n",
    "            Z=self.activation(Z)\n",
    "        return Z"
   ]
  },
  {
   "cell_type": "code",
   "execution_count": null,
   "metadata": {},
   "outputs": [],
   "source": []
  },
  {
   "cell_type": "code",
   "execution_count": 11,
   "metadata": {},
   "outputs": [],
   "source": [
    "class UNet(keras.Model):\n",
    "    \n",
    "    def __init__(self,n_times,u_times,**kwargs):\n",
    "        super().__init__(**kwargs)\n",
    "        Z=[64*2**i for i in range(n_times)]\n",
    "        print(Z)\n",
    "        self.my_conv=[Double_Conv_Down(2,Z[i]) for i in range(n_times)]\n",
    "        self.double_conv=[keras.layers.Conv2D(Z[n_times-1]*2,kernel_size=3) for i in range(u_times)]\n",
    "        self.transpose1=keras.layers.Conv2DTranspose(512,kernel_size=2,strides=(2,2))\n",
    "        self.up_conv1=Double_Conv(2,512)\n",
    "        self.transpose2=keras.layers.Conv2DTranspose(256,kernel_size=2,strides=(2,2))\n",
    "        self.up_conv2=Double_Conv(2,256)\n",
    "        self.transpose3=keras.layers.Conv2DTranspose(128,kernel_size=2,strides=(2,2))\n",
    "        self.up_conv3=Double_Conv(2,128)\n",
    "        self.transpose4=keras.layers.Conv2DTranspose(64,kernel_size=2,strides=(2,2))\n",
    "        self.up_conv4=Double_Conv(2,64)\n",
    "        self.out=keras.layers.Conv2D(3,kernel_size=1)\n",
    "        \n",
    "    def resize(self,input_tensor,output_tensor):\n",
    "        input_size=input_tensor.shape[2]\n",
    "        output_size=output_tensor.shape[2]\n",
    "        delta=(input_size-output_size)//2\n",
    "        return input_tensor[:,delta:input_size-delta,delta:input_size-delta,:]\n",
    "        \n",
    "    def call(self,inputs):\n",
    "        Z=inputs\n",
    "        for layer1 in self.my_conv:\n",
    "            Z=layer1(Z)\n",
    "        for layers in self.double_conv:\n",
    "            Z=layers(Z)\n",
    "            \n",
    "        Z=self.transpose1(Z)  \n",
    "        Y=self.resize(self.my_conv[3].next_use,Z)\n",
    "        Z=tf.concat([Z,Y],0)\n",
    "        Z=self.up_conv1(Z)\n",
    "        \n",
    "        Z=self.transpose2(Z)  \n",
    "        Y=self.resize(self.my_conv[2].next_use,Z)\n",
    "        Z=tf.concat([Z,Y],0)\n",
    "        Z=self.up_conv2(Z)\n",
    "        \n",
    "        Z=self.transpose3(Z)  \n",
    "        Y=self.resize(self.my_conv[1].next_use,Z)\n",
    "        Z=tf.concat([Z,Y],0)\n",
    "        Z=self.up_conv3(Z)\n",
    "        \n",
    "        Z=self.transpose4(Z)  \n",
    "        Y=self.resize(self.my_conv[0].next_use,Z)\n",
    "        Z=tf.concat([Z,Y],0)\n",
    "        Z=self.up_conv4(Z)\n",
    "        \n",
    "        Z=self.out(Z)\n",
    "        \n",
    "        return Z\n",
    "        "
   ]
  },
  {
   "cell_type": "code",
   "execution_count": 12,
   "metadata": {},
   "outputs": [
    {
     "name": "stdout",
     "output_type": "stream",
     "text": [
      "[64, 128, 256, 512]\n"
     ]
    }
   ],
   "source": [
    "model=UNet(4,2)\n",
    "optimizer=keras.optimizers.Adam(lr=0.001)\n",
    "model.compile(loss=\"mse\",optimizer=optimizer)"
   ]
  },
  {
   "cell_type": "code",
   "execution_count": null,
   "metadata": {},
   "outputs": [
    {
     "name": "stdout",
     "output_type": "stream",
     "text": [
      "Epoch 1/5\n"
     ]
    }
   ],
   "source": [
    "model.fit(train_datasets,epochs=5,batch_size=5)"
   ]
  },
  {
   "cell_type": "code",
   "execution_count": 13,
   "metadata": {},
   "outputs": [],
   "source": [
    "iterator = tf.compat.v1.data.make_one_shot_iterator(train_datasets)\n",
    "data_X, data_y = iterator.get_next()"
   ]
  },
  {
   "cell_type": "code",
   "execution_count": 16,
   "metadata": {},
   "outputs": [
    {
     "ename": "ValueError",
     "evalue": "This model has not yet been built. Build the model first by calling `build()` or calling `fit()` with some data, or specify an `input_shape` argument in the first layer(s) for automatic build.",
     "output_type": "error",
     "traceback": [
      "\u001b[1;31m---------------------------------------------------------------------------\u001b[0m",
      "\u001b[1;31mValueError\u001b[0m                                Traceback (most recent call last)",
      "\u001b[1;32m<ipython-input-16-5f15418b3570>\u001b[0m in \u001b[0;36m<module>\u001b[1;34m\u001b[0m\n\u001b[1;32m----> 1\u001b[1;33m \u001b[0mmodel\u001b[0m\u001b[1;33m.\u001b[0m\u001b[0msummary\u001b[0m\u001b[1;33m(\u001b[0m\u001b[1;33m)\u001b[0m\u001b[1;33m\u001b[0m\u001b[1;33m\u001b[0m\u001b[0m\n\u001b[0m",
      "\u001b[1;32m~\\anaconda3\\lib\\site-packages\\tensorflow\\python\\keras\\engine\\training.py\u001b[0m in \u001b[0;36msummary\u001b[1;34m(self, line_length, positions, print_fn)\u001b[0m\n\u001b[0;32m   2374\u001b[0m     \"\"\"\n\u001b[0;32m   2375\u001b[0m     \u001b[1;32mif\u001b[0m \u001b[1;32mnot\u001b[0m \u001b[0mself\u001b[0m\u001b[1;33m.\u001b[0m\u001b[0mbuilt\u001b[0m\u001b[1;33m:\u001b[0m\u001b[1;33m\u001b[0m\u001b[1;33m\u001b[0m\u001b[0m\n\u001b[1;32m-> 2376\u001b[1;33m       raise ValueError('This model has not yet been built. '\n\u001b[0m\u001b[0;32m   2377\u001b[0m                        \u001b[1;34m'Build the model first by calling `build()` or calling '\u001b[0m\u001b[1;33m\u001b[0m\u001b[1;33m\u001b[0m\u001b[0m\n\u001b[0;32m   2378\u001b[0m                        \u001b[1;34m'`fit()` with some data, or specify '\u001b[0m\u001b[1;33m\u001b[0m\u001b[1;33m\u001b[0m\u001b[0m\n",
      "\u001b[1;31mValueError\u001b[0m: This model has not yet been built. Build the model first by calling `build()` or calling `fit()` with some data, or specify an `input_shape` argument in the first layer(s) for automatic build."
     ]
    }
   ],
   "source": [
    "model.summary()"
   ]
  },
  {
   "cell_type": "code",
   "execution_count": null,
   "metadata": {},
   "outputs": [],
   "source": []
  },
  {
   "cell_type": "code",
   "execution_count": null,
   "metadata": {},
   "outputs": [],
   "source": []
  }
 ],
 "metadata": {
  "kernelspec": {
   "display_name": "Python 3",
   "language": "python",
   "name": "python3"
  },
  "language_info": {
   "codemirror_mode": {
    "name": "ipython",
    "version": 3
   },
   "file_extension": ".py",
   "mimetype": "text/x-python",
   "name": "python",
   "nbconvert_exporter": "python",
   "pygments_lexer": "ipython3",
   "version": "3.8.5"
  }
 },
 "nbformat": 4,
 "nbformat_minor": 4
}
