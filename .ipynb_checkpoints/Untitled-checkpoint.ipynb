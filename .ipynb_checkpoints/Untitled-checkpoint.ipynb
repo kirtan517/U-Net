{
 "cells": [
  {
   "cell_type": "code",
   "execution_count": 117,
   "metadata": {},
   "outputs": [],
   "source": [
    "import tensorflow as tf\n",
    "from tensorflow import keras\n",
    "import tensorflow_datasets as tfds\n",
    "import matplotlib.pyplot as plt\n",
    "import os\n",
    "import pandas as pd\n",
    "import matplotlib.image as mpimg \n",
    "import pathlib\n",
    "import numpy as np\n",
    "tf.compat.v1.enable_eager_execution()"
   ]
  },
  {
   "cell_type": "code",
   "execution_count": 118,
   "metadata": {},
   "outputs": [],
   "source": [
    "X_dir=\"images/images/\"\n",
    "y_dir=\"annotations/annotations\""
   ]
  },
  {
   "cell_type": "code",
   "execution_count": 157,
   "metadata": {},
   "outputs": [],
   "source": [
    "def train_dataframe(which=\"trainval\"):\n",
    "    df=pd.read_csv(y_dir+\"/\"+which+\".txt\",sep=\" \",names=[\"File_name\",\"ID\",\"Species\",\"Breed_ID\"])\n",
    "    file_path=X_dir+df[\"File_name\"]+\".jpg\"\n",
    "    file_path=tf.constant(file_path)\n",
    "    target_path=y_dir+\"/trimaps/\"+df[\"File_name\"]+\".png\"\n",
    "    target_path=tf.constant(target_path)\n",
    "    return tf.data.Dataset.from_tensor_slices((file_path,target_path))"
   ]
  },
  {
   "cell_type": "code",
   "execution_count": 144,
   "metadata": {},
   "outputs": [
    {
     "data": {
      "text/plain": [
       "<TensorDataset shapes: ((3680,), (3680,)), types: (tf.string, tf.string)>"
      ]
     },
     "execution_count": 144,
     "metadata": {},
     "output_type": "execute_result"
    }
   ],
   "source": [
    "d=train_dataframe()\n",
    "d"
   ]
  },
  {
   "cell_type": "code",
   "execution_count": 150,
   "metadata": {},
   "outputs": [],
   "source": [
    "\n",
    "def read_image(input_path,mask_path):# read image from file\n",
    "    X=tf.io.read_file(input_path)\n",
    "    X=tf.image.decode_image(X,dtype=tf.float32,channels=3)\n",
    "    y=tf.io.read_file(mask_path)\n",
    "    y=tf.image.decode_image(y,dtype=tf.float32,channels=3)\n",
    "    return X,y"
   ]
  },
  {
   "cell_type": "code",
   "execution_count": null,
   "metadata": {},
   "outputs": [],
   "source": []
  },
  {
   "cell_type": "code",
   "execution_count": 172,
   "metadata": {},
   "outputs": [],
   "source": [
    "@tf.function\n",
    "def read_image(input_path,mask_path): # read image from file\n",
    "    X=tf.io.read_file(input_path)\n",
    "    X=tf.image.decode_image(X,dtype=tf.float32,channels=3)\n",
    "    y=tf.io.read_file(mask_path)\n",
    "    y=tf.image.decode_image(y,dtype=tf.float32,channels=3)\n",
    "    return X,y\n",
    "\n",
    "@tf.function\n",
    "def pre_process(input_image,input_mask):\n",
    "    input_image=input_image/255.0\n",
    "    input_mask -=1\n",
    "    return input_image,input_mask    "
   ]
  },
  {
   "cell_type": "code",
   "execution_count": 173,
   "metadata": {},
   "outputs": [],
   "source": [
    "df_train=train_dataframe()\n",
    "df_train=df_train.map(read_image)\n",
    "df_train=df_train.map(pre_process)\n",
    "df_test=train_dataframe(\"test\")"
   ]
  },
  {
   "cell_type": "code",
   "execution_count": null,
   "metadata": {},
   "outputs": [],
   "source": []
  },
  {
   "cell_type": "code",
   "execution_count": 174,
   "metadata": {},
   "outputs": [],
   "source": [
    "train_datasets=df_train.shuffle(1000).batch(2000)\n",
    "test_datasets=df_test.batch(100)"
   ]
  },
  {
   "cell_type": "code",
   "execution_count": 175,
   "metadata": {},
   "outputs": [
    {
     "data": {
      "text/plain": [
       "<BatchDataset shapes: (<unknown>, <unknown>), types: (tf.float32, tf.float32)>"
      ]
     },
     "execution_count": 175,
     "metadata": {},
     "output_type": "execute_result"
    }
   ],
   "source": [
    "train_datasets"
   ]
  },
  {
   "cell_type": "code",
   "execution_count": 160,
   "metadata": {},
   "outputs": [],
   "source": [
    "class Double_Conv(keras.layers.Layer):\n",
    "    \n",
    "    def __init__(self,n_layers,in_c,activation=\"relu\",**kwargs):\n",
    "        super().__init__(**kwargs)\n",
    "        self.hidden=[keras.layers.Conv2D(in_c,kernel_size=3) for i in range(n_layers)]\n",
    "        self.activation=keras.layers.Activation(activation)\n",
    "        self.max_pool=keras.layers.MaxPool2D(pool_size=2,strides=2)\n",
    "        \n",
    "    def call(self,inputs):\n",
    "        Z=inputs\n",
    "        for layer in self.hidden:\n",
    "            Z=layer(Z)\n",
    "            Z=self.activaation(Z)\n",
    "        Z=self.max_pool(Z)\n",
    "        return Z\n",
    "        \n",
    "        "
   ]
  },
  {
   "cell_type": "code",
   "execution_count": null,
   "metadata": {},
   "outputs": [],
   "source": []
  },
  {
   "cell_type": "code",
   "execution_count": 168,
   "metadata": {},
   "outputs": [],
   "source": [
    "class UNet(keras.Model):\n",
    "    \n",
    "    def __init__(self,n_times,u_times,**kwargs):\n",
    "        super().__init__(**kwargs)\n",
    "        Z=[64*2**i for i in range(n_times)]\n",
    "        self.my_conv=[Double_Conv(2,Z[i]) for i in range(n_times)]\n",
    "        self.double_conv=[keras.layers.Conv2D(Z[n_times-1]*2,kernel_size=3) for i in range(u_times)]\n",
    "        self.transpose=keras.layers.Conv2DTranspose(512,kernel_size=2,strides=(2,2))\n",
    "        \n",
    "    def call(self,inputs):\n",
    "        Z=inputs\n",
    "        for i in Z:\n",
    "            print(i)\n",
    "        print(Z)\n",
    "        for layer1 in self.my_conv:\n",
    "            Z=layer1(Z)\n",
    "        for layers in self.double_conv:\n",
    "            Z=layers(Z)\n",
    "        return Z\n",
    "        "
   ]
  },
  {
   "cell_type": "code",
   "execution_count": 169,
   "metadata": {},
   "outputs": [],
   "source": [
    "model=UNet(4,2)\n",
    "optimizer=keras.optimizers.Adam(lr=0.001)\n",
    "model.compile(loss=\"mse\",optimizer=optimizer)"
   ]
  },
  {
   "cell_type": "code",
   "execution_count": 180,
   "metadata": {},
   "outputs": [
    {
     "ename": "AttributeError",
     "evalue": "'BatchDataset' object has no attribute 'get_next'",
     "output_type": "error",
     "traceback": [
      "\u001b[1;31m---------------------------------------------------------------------------\u001b[0m",
      "\u001b[1;31mAttributeError\u001b[0m                            Traceback (most recent call last)",
      "\u001b[1;32m<ipython-input-180-387ce9991f7c>\u001b[0m in \u001b[0;36m<module>\u001b[1;34m\u001b[0m\n\u001b[0;32m      1\u001b[0m \u001b[0miterator\u001b[0m \u001b[1;33m=\u001b[0m \u001b[0mtrain_datasets\u001b[0m\u001b[1;33m\u001b[0m\u001b[1;33m\u001b[0m\u001b[0m\n\u001b[1;32m----> 2\u001b[1;33m \u001b[0mdata_X\u001b[0m\u001b[1;33m,\u001b[0m \u001b[0mdata_y\u001b[0m \u001b[1;33m=\u001b[0m \u001b[0miterator\u001b[0m\u001b[1;33m.\u001b[0m\u001b[0mget_next\u001b[0m\u001b[1;33m(\u001b[0m\u001b[1;33m)\u001b[0m\u001b[1;33m\u001b[0m\u001b[1;33m\u001b[0m\u001b[0m\n\u001b[0m",
      "\u001b[1;31mAttributeError\u001b[0m: 'BatchDataset' object has no attribute 'get_next'"
     ]
    }
   ],
   "source": [
    "iterator = train_datasets\n",
    "data_X, data_y = iterator.get_next()"
   ]
  },
  {
   "cell_type": "code",
   "execution_count": 178,
   "metadata": {},
   "outputs": [
    {
     "data": {
      "text/plain": [
       "<BatchDataset shapes: (<unknown>, <unknown>), types: (tf.float32, tf.float32)>"
      ]
     },
     "execution_count": 178,
     "metadata": {},
     "output_type": "execute_result"
    }
   ],
   "source": [
    "train_datasetsdata_X, data_y = iterator.get_next()data_X, data_y = iterator.get_next()"
   ]
  },
  {
   "cell_type": "code",
   "execution_count": null,
   "metadata": {},
   "outputs": [],
   "source": []
  }
 ],
 "metadata": {
  "kernelspec": {
   "display_name": "Python 3",
   "language": "python",
   "name": "python3"
  },
  "language_info": {
   "codemirror_mode": {
    "name": "ipython",
    "version": 3
   },
   "file_extension": ".py",
   "mimetype": "text/x-python",
   "name": "python",
   "nbconvert_exporter": "python",
   "pygments_lexer": "ipython3",
   "version": "3.8.5"
  }
 },
 "nbformat": 4,
 "nbformat_minor": 4
}
